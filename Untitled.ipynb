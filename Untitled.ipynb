{
 "cells": [
  {
   "cell_type": "code",
   "execution_count": null,
   "id": "8ba7353b",
   "metadata": {},
   "outputs": [],
   "source": [
    "#Shift+enter"
   ]
  },
  {
   "cell_type": "code",
   "execution_count": 1,
   "id": "cc260a20",
   "metadata": {},
   "outputs": [
    {
     "data": {
      "text/plain": [
       "'C:\\\\Users\\\\hp\\\\Desktop\\\\Machine'"
      ]
     },
     "execution_count": 1,
     "metadata": {},
     "output_type": "execute_result"
    }
   ],
   "source": [
    "import os\n",
    "os.getcwd() #current working directory"
   ]
  },
  {
   "cell_type": "code",
   "execution_count": 2,
   "id": "7ab3dd24",
   "metadata": {},
   "outputs": [],
   "source": [
    "import pandas as pd"
   ]
  },
  {
   "cell_type": "code",
   "execution_count": 4,
   "id": "077a3d21",
   "metadata": {},
   "outputs": [],
   "source": [
    "df = pd.read_excel('Manuel.xlsx')"
   ]
  },
  {
   "cell_type": "code",
   "execution_count": 6,
   "id": "16c10bf5",
   "metadata": {},
   "outputs": [
    {
     "data": {
      "text/html": [
       "<div>\n",
       "<style scoped>\n",
       "    .dataframe tbody tr th:only-of-type {\n",
       "        vertical-align: middle;\n",
       "    }\n",
       "\n",
       "    .dataframe tbody tr th {\n",
       "        vertical-align: top;\n",
       "    }\n",
       "\n",
       "    .dataframe thead th {\n",
       "        text-align: right;\n",
       "    }\n",
       "</style>\n",
       "<table border=\"1\" class=\"dataframe\">\n",
       "  <thead>\n",
       "    <tr style=\"text-align: right;\">\n",
       "      <th></th>\n",
       "      <th>Unnamed: 0</th>\n",
       "      <th>Variable X</th>\n",
       "      <th>d = x - x̶\\n</th>\n",
       "      <th>d2</th>\n",
       "      <th>Unnamed: 4</th>\n",
       "      <th>Unnamed: 5</th>\n",
       "      <th>Unnamed: 6</th>\n",
       "      <th>Unnamed: 7</th>\n",
       "      <th>Unnamed: 8</th>\n",
       "      <th>Unnamed: 9</th>\n",
       "      <th>Unnamed: 10</th>\n",
       "      <th>Unnamed: 11</th>\n",
       "    </tr>\n",
       "  </thead>\n",
       "  <tbody>\n",
       "    <tr>\n",
       "      <th>0</th>\n",
       "      <td>NaN</td>\n",
       "      <td>38</td>\n",
       "      <td>4.7</td>\n",
       "      <td>22.09</td>\n",
       "      <td>NaN</td>\n",
       "      <td>x̶</td>\n",
       "      <td>= mean</td>\n",
       "      <td>= ∑x / n</td>\n",
       "      <td>NaN</td>\n",
       "      <td>NaN</td>\n",
       "      <td>NaN</td>\n",
       "      <td>NaN</td>\n",
       "    </tr>\n",
       "    <tr>\n",
       "      <th>1</th>\n",
       "      <td>NaN</td>\n",
       "      <td>31</td>\n",
       "      <td>-2.3</td>\n",
       "      <td>5.29</td>\n",
       "      <td>NaN</td>\n",
       "      <td>d</td>\n",
       "      <td>= deviation</td>\n",
       "      <td>= x - x̶</td>\n",
       "      <td>NaN</td>\n",
       "      <td>NaN</td>\n",
       "      <td>NaN</td>\n",
       "      <td>NaN</td>\n",
       "    </tr>\n",
       "    <tr>\n",
       "      <th>2</th>\n",
       "      <td>NaN</td>\n",
       "      <td>45</td>\n",
       "      <td>11.7</td>\n",
       "      <td>136.89</td>\n",
       "      <td>NaN</td>\n",
       "      <td>d2</td>\n",
       "      <td>= deviation square</td>\n",
       "      <td>= (x - x̶ )2</td>\n",
       "      <td>NaN</td>\n",
       "      <td>NaN</td>\n",
       "      <td>NaN</td>\n",
       "      <td>NaN</td>\n",
       "    </tr>\n",
       "    <tr>\n",
       "      <th>3</th>\n",
       "      <td>NaN</td>\n",
       "      <td>20</td>\n",
       "      <td>-13.3</td>\n",
       "      <td>176.89</td>\n",
       "      <td>NaN</td>\n",
       "      <td>SS = ∑d2</td>\n",
       "      <td>= Sum of squares</td>\n",
       "      <td>= ∑(x - x̶ )2</td>\n",
       "      <td>NaN</td>\n",
       "      <td>NaN</td>\n",
       "      <td>NaN</td>\n",
       "      <td>NaN</td>\n",
       "    </tr>\n",
       "    <tr>\n",
       "      <th>4</th>\n",
       "      <td>NaN</td>\n",
       "      <td>40</td>\n",
       "      <td>6.7</td>\n",
       "      <td>44.89</td>\n",
       "      <td>NaN</td>\n",
       "      <td>V2 = S2</td>\n",
       "      <td>= Variance</td>\n",
       "      <td>= SS / n - 1</td>\n",
       "      <td>NaN</td>\n",
       "      <td>NaN</td>\n",
       "      <td>NaN</td>\n",
       "      <td>NaN</td>\n",
       "    </tr>\n",
       "  </tbody>\n",
       "</table>\n",
       "</div>"
      ],
      "text/plain": [
       "   Unnamed: 0 Variable X d = x - x̶\\n      d2  Unnamed: 4 Unnamed: 5  \\\n",
       "0         NaN         38          4.7   22.09         NaN         x̶   \n",
       "1         NaN         31         -2.3    5.29         NaN          d   \n",
       "2         NaN         45         11.7  136.89         NaN         d2   \n",
       "3         NaN         20        -13.3  176.89         NaN   SS = ∑d2   \n",
       "4         NaN         40          6.7   44.89         NaN    V2 = S2   \n",
       "\n",
       "            Unnamed: 6      Unnamed: 7 Unnamed: 8  Unnamed: 9  Unnamed: 10  \\\n",
       "0               = mean        = ∑x / n        NaN         NaN          NaN   \n",
       "1          = deviation        = x - x̶        NaN         NaN          NaN   \n",
       "2   = deviation square    = (x - x̶ )2        NaN         NaN          NaN   \n",
       "3     = Sum of squares   = ∑(x - x̶ )2        NaN         NaN          NaN   \n",
       "4           = Variance    = SS / n - 1        NaN         NaN          NaN   \n",
       "\n",
       "  Unnamed: 11  \n",
       "0         NaN  \n",
       "1         NaN  \n",
       "2         NaN  \n",
       "3         NaN  \n",
       "4         NaN  "
      ]
     },
     "execution_count": 6,
     "metadata": {},
     "output_type": "execute_result"
    }
   ],
   "source": [
    "df.head()"
   ]
  },
  {
   "cell_type": "code",
   "execution_count": 7,
   "id": "0e984fb9",
   "metadata": {},
   "outputs": [
    {
     "data": {
      "text/html": [
       "<div>\n",
       "<style scoped>\n",
       "    .dataframe tbody tr th:only-of-type {\n",
       "        vertical-align: middle;\n",
       "    }\n",
       "\n",
       "    .dataframe tbody tr th {\n",
       "        vertical-align: top;\n",
       "    }\n",
       "\n",
       "    .dataframe thead th {\n",
       "        text-align: right;\n",
       "    }\n",
       "</style>\n",
       "<table border=\"1\" class=\"dataframe\">\n",
       "  <thead>\n",
       "    <tr style=\"text-align: right;\">\n",
       "      <th></th>\n",
       "      <th>Unnamed: 0</th>\n",
       "      <th>Variable X</th>\n",
       "      <th>d = x - x̶\\n</th>\n",
       "      <th>d2</th>\n",
       "      <th>Unnamed: 4</th>\n",
       "      <th>Unnamed: 5</th>\n",
       "      <th>Unnamed: 6</th>\n",
       "      <th>Unnamed: 7</th>\n",
       "      <th>Unnamed: 8</th>\n",
       "      <th>Unnamed: 9</th>\n",
       "      <th>Unnamed: 10</th>\n",
       "      <th>Unnamed: 11</th>\n",
       "    </tr>\n",
       "  </thead>\n",
       "  <tbody>\n",
       "    <tr>\n",
       "      <th>10</th>\n",
       "      <td>NaN</td>\n",
       "      <td>33.3</td>\n",
       "      <td>0.0</td>\n",
       "      <td>646.1</td>\n",
       "      <td>NaN</td>\n",
       "      <td>NaN</td>\n",
       "      <td>NaN</td>\n",
       "      <td>NaN</td>\n",
       "      <td>NaN</td>\n",
       "      <td>NaN</td>\n",
       "      <td>NaN</td>\n",
       "      <td>NaN</td>\n",
       "    </tr>\n",
       "    <tr>\n",
       "      <th>11</th>\n",
       "      <td>NaN</td>\n",
       "      <td>x̶</td>\n",
       "      <td>∑d</td>\n",
       "      <td>SS = ∑d2</td>\n",
       "      <td>NaN</td>\n",
       "      <td>Sum of deviation d is zero therefore not usefu...</td>\n",
       "      <td>NaN</td>\n",
       "      <td>NaN</td>\n",
       "      <td>NaN</td>\n",
       "      <td>NaN</td>\n",
       "      <td>NaN</td>\n",
       "      <td>NaN</td>\n",
       "    </tr>\n",
       "    <tr>\n",
       "      <th>12</th>\n",
       "      <td>NaN</td>\n",
       "      <td>NaN</td>\n",
       "      <td>NaN</td>\n",
       "      <td>NaN</td>\n",
       "      <td>NaN</td>\n",
       "      <td>Deviation square can be large if x values are ...</td>\n",
       "      <td>NaN</td>\n",
       "      <td>NaN</td>\n",
       "      <td>NaN</td>\n",
       "      <td>NaN</td>\n",
       "      <td>NaN</td>\n",
       "      <td>NaN</td>\n",
       "    </tr>\n",
       "    <tr>\n",
       "      <th>13</th>\n",
       "      <td>NaN</td>\n",
       "      <td>NaN</td>\n",
       "      <td>NaN</td>\n",
       "      <td>NaN</td>\n",
       "      <td>NaN</td>\n",
       "      <td>Sum of Squares of deviations can be large &amp; di...</td>\n",
       "      <td>NaN</td>\n",
       "      <td>NaN</td>\n",
       "      <td>NaN</td>\n",
       "      <td>NaN</td>\n",
       "      <td>NaN</td>\n",
       "      <td>NaN</td>\n",
       "    </tr>\n",
       "    <tr>\n",
       "      <th>14</th>\n",
       "      <td>NaN</td>\n",
       "      <td>NaN</td>\n",
       "      <td>NaN</td>\n",
       "      <td>NaN</td>\n",
       "      <td>NaN</td>\n",
       "      <td>Since variance is sqaured and observation such...</td>\n",
       "      <td>NaN</td>\n",
       "      <td>NaN</td>\n",
       "      <td>NaN</td>\n",
       "      <td>NaN</td>\n",
       "      <td>NaN</td>\n",
       "      <td>NaN</td>\n",
       "    </tr>\n",
       "  </tbody>\n",
       "</table>\n",
       "</div>"
      ],
      "text/plain": [
       "    Unnamed: 0 Variable X d = x - x̶\\n        d2  Unnamed: 4  \\\n",
       "10         NaN       33.3          0.0     646.1         NaN   \n",
       "11         NaN         x̶           ∑d  SS = ∑d2         NaN   \n",
       "12         NaN        NaN          NaN       NaN         NaN   \n",
       "13         NaN        NaN          NaN       NaN         NaN   \n",
       "14         NaN        NaN          NaN       NaN         NaN   \n",
       "\n",
       "                                           Unnamed: 5 Unnamed: 6 Unnamed: 7  \\\n",
       "10                                                NaN        NaN        NaN   \n",
       "11  Sum of deviation d is zero therefore not usefu...        NaN        NaN   \n",
       "12  Deviation square can be large if x values are ...        NaN        NaN   \n",
       "13  Sum of Squares of deviations can be large & di...        NaN        NaN   \n",
       "14  Since variance is sqaured and observation such...        NaN        NaN   \n",
       "\n",
       "   Unnamed: 8  Unnamed: 9  Unnamed: 10 Unnamed: 11  \n",
       "10        NaN         NaN          NaN         NaN  \n",
       "11        NaN         NaN          NaN         NaN  \n",
       "12        NaN         NaN          NaN         NaN  \n",
       "13        NaN         NaN          NaN         NaN  \n",
       "14        NaN         NaN          NaN         NaN  "
      ]
     },
     "execution_count": 7,
     "metadata": {},
     "output_type": "execute_result"
    }
   ],
   "source": [
    "df.tail()"
   ]
  },
  {
   "cell_type": "code",
   "execution_count": 8,
   "id": "6177559a",
   "metadata": {},
   "outputs": [
    {
     "data": {
      "text/plain": [
       "(15, 12)"
      ]
     },
     "execution_count": 8,
     "metadata": {},
     "output_type": "execute_result"
    }
   ],
   "source": [
    "df.shape"
   ]
  },
  {
   "cell_type": "markdown",
   "id": "986adc09",
   "metadata": {},
   "source": [
    "# access data from different folder"
   ]
  },
  {
   "cell_type": "code",
   "execution_count": 10,
   "id": "e74c657d",
   "metadata": {},
   "outputs": [
    {
     "data": {
      "text/plain": [
       "'C:\\\\Users\\\\hp\\\\Desktop\\\\Machine'"
      ]
     },
     "execution_count": 10,
     "metadata": {},
     "output_type": "execute_result"
    }
   ],
   "source": [
    "import os\n",
    "os.getcwd()#current working directory"
   ]
  },
  {
   "cell_type": "code",
   "execution_count": 11,
   "id": "1e9528ce",
   "metadata": {},
   "outputs": [],
   "source": [
    "os.chdir('C:\\\\Users\\\\hp\\\\Desktop\\\\Execel')"
   ]
  },
  {
   "cell_type": "code",
   "execution_count": 12,
   "id": "5a1095b8",
   "metadata": {},
   "outputs": [
    {
     "data": {
      "text/plain": [
       "'C:\\\\Users\\\\hp\\\\Desktop\\\\Execel'"
      ]
     },
     "execution_count": 12,
     "metadata": {},
     "output_type": "execute_result"
    }
   ],
   "source": [
    "import os\n",
    "os.getcwd()#current working directory"
   ]
  },
  {
   "cell_type": "code",
   "execution_count": 13,
   "id": "91e23021",
   "metadata": {},
   "outputs": [],
   "source": [
    "tumi =pd.read_excel('Smith.xlsx')"
   ]
  },
  {
   "cell_type": "code",
   "execution_count": 15,
   "id": "d67afd4b",
   "metadata": {},
   "outputs": [
    {
     "data": {
      "text/html": [
       "<div>\n",
       "<style scoped>\n",
       "    .dataframe tbody tr th:only-of-type {\n",
       "        vertical-align: middle;\n",
       "    }\n",
       "\n",
       "    .dataframe tbody tr th {\n",
       "        vertical-align: top;\n",
       "    }\n",
       "\n",
       "    .dataframe thead th {\n",
       "        text-align: right;\n",
       "    }\n",
       "</style>\n",
       "<table border=\"1\" class=\"dataframe\">\n",
       "  <thead>\n",
       "    <tr style=\"text-align: right;\">\n",
       "      <th></th>\n",
       "      <th>Unnamed: 0</th>\n",
       "      <th>Variable X</th>\n",
       "      <th>d = x - x̶\\n</th>\n",
       "      <th>d2</th>\n",
       "      <th>Unnamed: 4</th>\n",
       "      <th>Unnamed: 5</th>\n",
       "      <th>Unnamed: 6</th>\n",
       "      <th>Unnamed: 7</th>\n",
       "      <th>Unnamed: 8</th>\n",
       "      <th>Unnamed: 9</th>\n",
       "      <th>Unnamed: 10</th>\n",
       "      <th>Unnamed: 11</th>\n",
       "    </tr>\n",
       "  </thead>\n",
       "  <tbody>\n",
       "    <tr>\n",
       "      <th>0</th>\n",
       "      <td>NaN</td>\n",
       "      <td>38</td>\n",
       "      <td>4.7</td>\n",
       "      <td>22.09</td>\n",
       "      <td>NaN</td>\n",
       "      <td>x̶</td>\n",
       "      <td>= mean</td>\n",
       "      <td>= ∑x / n</td>\n",
       "      <td>NaN</td>\n",
       "      <td>NaN</td>\n",
       "      <td>NaN</td>\n",
       "      <td>NaN</td>\n",
       "    </tr>\n",
       "    <tr>\n",
       "      <th>1</th>\n",
       "      <td>NaN</td>\n",
       "      <td>31</td>\n",
       "      <td>-2.3</td>\n",
       "      <td>5.29</td>\n",
       "      <td>NaN</td>\n",
       "      <td>d</td>\n",
       "      <td>= deviation</td>\n",
       "      <td>= x - x̶</td>\n",
       "      <td>NaN</td>\n",
       "      <td>NaN</td>\n",
       "      <td>NaN</td>\n",
       "      <td>NaN</td>\n",
       "    </tr>\n",
       "    <tr>\n",
       "      <th>2</th>\n",
       "      <td>NaN</td>\n",
       "      <td>45</td>\n",
       "      <td>11.7</td>\n",
       "      <td>136.89</td>\n",
       "      <td>NaN</td>\n",
       "      <td>d2</td>\n",
       "      <td>= deviation square</td>\n",
       "      <td>= (x - x̶ )2</td>\n",
       "      <td>NaN</td>\n",
       "      <td>NaN</td>\n",
       "      <td>NaN</td>\n",
       "      <td>NaN</td>\n",
       "    </tr>\n",
       "    <tr>\n",
       "      <th>3</th>\n",
       "      <td>NaN</td>\n",
       "      <td>20</td>\n",
       "      <td>-13.3</td>\n",
       "      <td>176.89</td>\n",
       "      <td>NaN</td>\n",
       "      <td>SS = ∑d2</td>\n",
       "      <td>= Sum of squares</td>\n",
       "      <td>= ∑(x - x̶ )2</td>\n",
       "      <td>NaN</td>\n",
       "      <td>NaN</td>\n",
       "      <td>NaN</td>\n",
       "      <td>NaN</td>\n",
       "    </tr>\n",
       "    <tr>\n",
       "      <th>4</th>\n",
       "      <td>NaN</td>\n",
       "      <td>40</td>\n",
       "      <td>6.7</td>\n",
       "      <td>44.89</td>\n",
       "      <td>NaN</td>\n",
       "      <td>V2 = S2</td>\n",
       "      <td>= Variance</td>\n",
       "      <td>= SS / n - 1</td>\n",
       "      <td>NaN</td>\n",
       "      <td>NaN</td>\n",
       "      <td>NaN</td>\n",
       "      <td>NaN</td>\n",
       "    </tr>\n",
       "  </tbody>\n",
       "</table>\n",
       "</div>"
      ],
      "text/plain": [
       "   Unnamed: 0 Variable X d = x - x̶\\n      d2  Unnamed: 4 Unnamed: 5  \\\n",
       "0         NaN         38          4.7   22.09         NaN         x̶   \n",
       "1         NaN         31         -2.3    5.29         NaN          d   \n",
       "2         NaN         45         11.7  136.89         NaN         d2   \n",
       "3         NaN         20        -13.3  176.89         NaN   SS = ∑d2   \n",
       "4         NaN         40          6.7   44.89         NaN    V2 = S2   \n",
       "\n",
       "            Unnamed: 6      Unnamed: 7 Unnamed: 8  Unnamed: 9  Unnamed: 10  \\\n",
       "0               = mean        = ∑x / n        NaN         NaN          NaN   \n",
       "1          = deviation        = x - x̶        NaN         NaN          NaN   \n",
       "2   = deviation square    = (x - x̶ )2        NaN         NaN          NaN   \n",
       "3     = Sum of squares   = ∑(x - x̶ )2        NaN         NaN          NaN   \n",
       "4           = Variance    = SS / n - 1        NaN         NaN          NaN   \n",
       "\n",
       "  Unnamed: 11  \n",
       "0         NaN  \n",
       "1         NaN  \n",
       "2         NaN  \n",
       "3         NaN  \n",
       "4         NaN  "
      ]
     },
     "execution_count": 15,
     "metadata": {},
     "output_type": "execute_result"
    }
   ],
   "source": [
    "df.head()"
   ]
  },
  {
   "cell_type": "markdown",
   "id": "aaf45637",
   "metadata": {},
   "source": [
    "# Linear regression"
   ]
  },
  {
   "cell_type": "code",
   "execution_count": 16,
   "id": "9f8e5218",
   "metadata": {},
   "outputs": [],
   "source": [
    "os.chdir('E:\\\\all-videos\\\\Mechine\\\\Material')"
   ]
  },
  {
   "cell_type": "code",
   "execution_count": 17,
   "id": "7ca7cffe",
   "metadata": {},
   "outputs": [
    {
     "data": {
      "text/html": [
       "<div>\n",
       "<style scoped>\n",
       "    .dataframe tbody tr th:only-of-type {\n",
       "        vertical-align: middle;\n",
       "    }\n",
       "\n",
       "    .dataframe tbody tr th {\n",
       "        vertical-align: top;\n",
       "    }\n",
       "\n",
       "    .dataframe thead th {\n",
       "        text-align: right;\n",
       "    }\n",
       "</style>\n",
       "<table border=\"1\" class=\"dataframe\">\n",
       "  <thead>\n",
       "    <tr style=\"text-align: right;\">\n",
       "      <th></th>\n",
       "      <th>area</th>\n",
       "      <th>rent</th>\n",
       "    </tr>\n",
       "  </thead>\n",
       "  <tbody>\n",
       "    <tr>\n",
       "      <th>0</th>\n",
       "      <td>2000</td>\n",
       "      <td>31500</td>\n",
       "    </tr>\n",
       "    <tr>\n",
       "      <th>1</th>\n",
       "      <td>2100</td>\n",
       "      <td>35000</td>\n",
       "    </tr>\n",
       "    <tr>\n",
       "      <th>2</th>\n",
       "      <td>2500</td>\n",
       "      <td>41050</td>\n",
       "    </tr>\n",
       "    <tr>\n",
       "      <th>3</th>\n",
       "      <td>2250</td>\n",
       "      <td>36100</td>\n",
       "    </tr>\n",
       "    <tr>\n",
       "      <th>4</th>\n",
       "      <td>3000</td>\n",
       "      <td>52100</td>\n",
       "    </tr>\n",
       "  </tbody>\n",
       "</table>\n",
       "</div>"
      ],
      "text/plain": [
       "   area   rent\n",
       "0  2000  31500\n",
       "1  2100  35000\n",
       "2  2500  41050\n",
       "3  2250  36100\n",
       "4  3000  52100"
      ]
     },
     "execution_count": 17,
     "metadata": {},
     "output_type": "execute_result"
    }
   ],
   "source": [
    "import pandas as pd\n",
    "df=pd.read_csv('Rent Data.csv')\n",
    "df.head()"
   ]
  },
  {
   "cell_type": "code",
   "execution_count": 18,
   "id": "23b37a68",
   "metadata": {},
   "outputs": [],
   "source": [
    "import matplotlib.pyplot as plt"
   ]
  },
  {
   "cell_type": "code",
   "execution_count": 19,
   "id": "5fdc2e81",
   "metadata": {},
   "outputs": [],
   "source": [
    "import numpy as np"
   ]
  },
  {
   "cell_type": "code",
   "execution_count": 22,
   "id": "01a03d0e",
   "metadata": {},
   "outputs": [
    {
     "data": {
      "text/plain": [
       "Text(0, 0.5, 'rent')"
      ]
     },
     "execution_count": 22,
     "metadata": {},
     "output_type": "execute_result"
    },
    {
     "data": {
      "image/png": "[encoded data removed]",
      "text/plain": [
       "<Figure size 432x288 with 1 Axes>"
      ]
     },
     "metadata": {
      "needs_background": "light"
     },
     "output_type": "display_data"
    }
   ],
   "source": [
    "#Data viz\n",
    "plt.scatter(df['area'], df['rent'], color='red')\n",
    "plt.xlabel('area')\n",
    "plt.ylabel('rent')"
   ]
  },
  {
   "cell_type": "code",
   "execution_count": 23,
   "id": "6de11571",
   "metadata": {},
   "outputs": [
    {
     "data": {
      "text/plain": [
       "2259.310344827586"
      ]
     },
     "execution_count": 23,
     "metadata": {},
     "output_type": "execute_result"
    }
   ],
   "source": [
    "df.area.mean()"
   ]
  },
  {
   "cell_type": "code",
   "execution_count": 24,
   "id": "d6685f9d",
   "metadata": {},
   "outputs": [
    {
     "data": {
      "text/plain": [
       "36702.06896551724"
      ]
     },
     "execution_count": 24,
     "metadata": {},
     "output_type": "execute_result"
    }
   ],
   "source": [
    "df.rent.mean()"
   ]
  },
  {
   "cell_type": "code",
   "execution_count": 25,
   "id": "3029b75e",
   "metadata": {},
   "outputs": [
    {
     "data": {
      "text/plain": [
       "2259.310344827586"
      ]
     },
     "execution_count": 25,
     "metadata": {},
     "output_type": "execute_result"
    }
   ],
   "source": [
    "df['area'].mean() # OR"
   ]
  },
  {
   "cell_type": "code",
   "execution_count": 26,
   "id": "1237f288",
   "metadata": {},
   "outputs": [],
   "source": [
    "x = df[['area']]\n",
    "y = df['rent']"
   ]
  },
  {
   "cell_type": "markdown",
   "id": "7b320de2",
   "metadata": {},
   "source": [
    "# separate training and testing data"
   ]
  },
  {
   "cell_type": "code",
   "execution_count": 27,
   "id": "199ef4c6",
   "metadata": {},
   "outputs": [],
   "source": [
    "from sklearn.model_selection import train_test_split"
   ]
  },
  {
   "cell_type": "code",
   "execution_count": 42,
   "id": "2578f80a",
   "metadata": {},
   "outputs": [],
   "source": [
    "xtrain,xtest,ytrain,ytest = train_test_split(x,y,test_size=.30, random_state=42)# 70% traing&30% testing data is standard"
   ]
  },
  {
   "cell_type": "code",
   "execution_count": 39,
   "id": "12be00bd",
   "metadata": {},
   "outputs": [
    {
     "data": {
      "text/html": [
       "<div>\n",
       "<style scoped>\n",
       "    .dataframe tbody tr th:only-of-type {\n",
       "        vertical-align: middle;\n",
       "    }\n",
       "\n",
       "    .dataframe tbody tr th {\n",
       "        vertical-align: top;\n",
       "    }\n",
       "\n",
       "    .dataframe thead th {\n",
       "        text-align: right;\n",
       "    }\n",
       "</style>\n",
       "<table border=\"1\" class=\"dataframe\">\n",
       "  <thead>\n",
       "    <tr style=\"text-align: right;\">\n",
       "      <th></th>\n",
       "      <th>area</th>\n",
       "    </tr>\n",
       "  </thead>\n",
       "  <tbody>\n",
       "    <tr>\n",
       "      <th>26</th>\n",
       "      <td>2750</td>\n",
       "    </tr>\n",
       "    <tr>\n",
       "      <th>5</th>\n",
       "      <td>1900</td>\n",
       "    </tr>\n",
       "    <tr>\n",
       "      <th>25</th>\n",
       "      <td>3100</td>\n",
       "    </tr>\n",
       "    <tr>\n",
       "      <th>22</th>\n",
       "      <td>3500</td>\n",
       "    </tr>\n",
       "    <tr>\n",
       "      <th>27</th>\n",
       "      <td>1800</td>\n",
       "    </tr>\n",
       "    <tr>\n",
       "      <th>3</th>\n",
       "      <td>2250</td>\n",
       "    </tr>\n",
       "    <tr>\n",
       "      <th>11</th>\n",
       "      <td>2100</td>\n",
       "    </tr>\n",
       "    <tr>\n",
       "      <th>17</th>\n",
       "      <td>1550</td>\n",
       "    </tr>\n",
       "    <tr>\n",
       "      <th>4</th>\n",
       "      <td>3000</td>\n",
       "    </tr>\n",
       "    <tr>\n",
       "      <th>15</th>\n",
       "      <td>3100</td>\n",
       "    </tr>\n",
       "    <tr>\n",
       "      <th>20</th>\n",
       "      <td>2110</td>\n",
       "    </tr>\n",
       "    <tr>\n",
       "      <th>9</th>\n",
       "      <td>2100</td>\n",
       "    </tr>\n",
       "    <tr>\n",
       "      <th>8</th>\n",
       "      <td>2700</td>\n",
       "    </tr>\n",
       "    <tr>\n",
       "      <th>14</th>\n",
       "      <td>2250</td>\n",
       "    </tr>\n",
       "    <tr>\n",
       "      <th>13</th>\n",
       "      <td>2510</td>\n",
       "    </tr>\n",
       "    <tr>\n",
       "      <th>21</th>\n",
       "      <td>2100</td>\n",
       "    </tr>\n",
       "    <tr>\n",
       "      <th>1</th>\n",
       "      <td>2100</td>\n",
       "    </tr>\n",
       "    <tr>\n",
       "      <th>6</th>\n",
       "      <td>1500</td>\n",
       "    </tr>\n",
       "    <tr>\n",
       "      <th>0</th>\n",
       "      <td>2000</td>\n",
       "    </tr>\n",
       "    <tr>\n",
       "      <th>23</th>\n",
       "      <td>1200</td>\n",
       "    </tr>\n",
       "  </tbody>\n",
       "</table>\n",
       "</div>"
      ],
      "text/plain": [
       "    area\n",
       "26  2750\n",
       "5   1900\n",
       "25  3100\n",
       "22  3500\n",
       "27  1800\n",
       "3   2250\n",
       "11  2100\n",
       "17  1550\n",
       "4   3000\n",
       "15  3100\n",
       "20  2110\n",
       "9   2100\n",
       "8   2700\n",
       "14  2250\n",
       "13  2510\n",
       "21  2100\n",
       "1   2100\n",
       "6   1500\n",
       "0   2000\n",
       "23  1200"
      ]
     },
     "execution_count": 39,
     "metadata": {},
     "output_type": "execute_result"
    }
   ],
   "source": [
    "xtrain # 70% of dara for training"
   ]
  },
  {
   "cell_type": "code",
   "execution_count": 40,
   "id": "a9875043",
   "metadata": {},
   "outputs": [
    {
     "data": {
      "text/plain": [
       "26    48000\n",
       "5     32500\n",
       "25    53000\n",
       "22    70000\n",
       "27    25000\n",
       "3     36100\n",
       "11    32000\n",
       "17    21000\n",
       "4     52100\n",
       "15    51500\n",
       "20    31500\n",
       "9     31000\n",
       "8     48000\n",
       "14    34100\n",
       "13    40050\n",
       "21    33500\n",
       "1     35000\n",
       "6     20000\n",
       "0     31500\n",
       "23    20000\n",
       "Name: rent, dtype: int64"
      ]
     },
     "execution_count": 40,
     "metadata": {},
     "output_type": "execute_result"
    }
   ],
   "source": [
    "ytrain # 70% data for traing"
   ]
  },
  {
   "cell_type": "code",
   "execution_count": 44,
   "id": "c15f1daf",
   "metadata": {},
   "outputs": [],
   "source": [
    "from sklearn.linear_model import LinearRegression"
   ]
  },
  {
   "cell_type": "code",
   "execution_count": 45,
   "id": "62d2063c",
   "metadata": {},
   "outputs": [],
   "source": [
    "reg = LinearRegression() # reg is a object"
   ]
  },
  {
   "cell_type": "code",
   "execution_count": 46,
   "id": "6e95064e",
   "metadata": {},
   "outputs": [
    {
     "data": {
      "text/plain": [
       "LinearRegression()"
      ]
     },
     "execution_count": 46,
     "metadata": {},
     "output_type": "execute_result"
    }
   ],
   "source": [
    "reg.fit(xtrain, ytrain)#fit =training, x, y"
   ]
  },
  {
   "cell_type": "code",
   "execution_count": 47,
   "id": "ad98430f",
   "metadata": {},
   "outputs": [
    {
     "data": {
      "text/plain": [
       "array([19.86671162])"
      ]
     },
     "execution_count": 47,
     "metadata": {},
     "output_type": "execute_result"
    }
   ],
   "source": [
    "reg.coef_"
   ]
  },
  {
   "cell_type": "code",
   "execution_count": 48,
   "id": "9a3a0966",
   "metadata": {},
   "outputs": [
    {
     "data": {
      "text/plain": [
       "-8754.300392865094"
      ]
     },
     "execution_count": 48,
     "metadata": {},
     "output_type": "execute_result"
    }
   ],
   "source": [
    "reg.intercept_"
   ]
  },
  {
   "cell_type": "code",
   "execution_count": 49,
   "id": "f3534e57",
   "metadata": {},
   "outputs": [
    {
     "data": {
      "text/plain": [
       "array([40912.47864549])"
      ]
     },
     "execution_count": 49,
     "metadata": {},
     "output_type": "execute_result"
    }
   ],
   "source": [
    "# y=mx+c\n",
    "m = reg.coef_\n",
    "c = reg.intercept_\n",
    "x = 2500\n",
    "y = m*x+c\n",
    "y\n"
   ]
  },
  {
   "cell_type": "code",
   "execution_count": 50,
   "id": "075c421d",
   "metadata": {},
   "outputs": [
    {
     "data": {
      "text/plain": [
       "array([40912.47864549])"
      ]
     },
     "execution_count": 50,
     "metadata": {},
     "output_type": "execute_result"
    }
   ],
   "source": [
    "reg.predict([[2500]])"
   ]
  },
  {
   "cell_type": "code",
   "execution_count": 51,
   "id": "af0f50f4",
   "metadata": {},
   "outputs": [],
   "source": [
    "df['pred_rent'] = reg.predict(df[['area']])"
   ]
  },
  {
   "cell_type": "code",
   "execution_count": 53,
   "id": "c63ff982",
   "metadata": {},
   "outputs": [
    {
     "data": {
      "text/html": [
       "<div>\n",
       "<style scoped>\n",
       "    .dataframe tbody tr th:only-of-type {\n",
       "        vertical-align: middle;\n",
       "    }\n",
       "\n",
       "    .dataframe tbody tr th {\n",
       "        vertical-align: top;\n",
       "    }\n",
       "\n",
       "    .dataframe thead th {\n",
       "        text-align: right;\n",
       "    }\n",
       "</style>\n",
       "<table border=\"1\" class=\"dataframe\">\n",
       "  <thead>\n",
       "    <tr style=\"text-align: right;\">\n",
       "      <th></th>\n",
       "      <th>area</th>\n",
       "      <th>rent</th>\n",
       "      <th>pred_rent</th>\n",
       "    </tr>\n",
       "  </thead>\n",
       "  <tbody>\n",
       "    <tr>\n",
       "      <th>0</th>\n",
       "      <td>2000</td>\n",
       "      <td>31500</td>\n",
       "      <td>30979.122838</td>\n",
       "    </tr>\n",
       "    <tr>\n",
       "      <th>1</th>\n",
       "      <td>2100</td>\n",
       "      <td>35000</td>\n",
       "      <td>32965.793999</td>\n",
       "    </tr>\n",
       "    <tr>\n",
       "      <th>2</th>\n",
       "      <td>2500</td>\n",
       "      <td>41050</td>\n",
       "      <td>40912.478645</td>\n",
       "    </tr>\n",
       "    <tr>\n",
       "      <th>3</th>\n",
       "      <td>2250</td>\n",
       "      <td>36100</td>\n",
       "      <td>35945.800742</td>\n",
       "    </tr>\n",
       "    <tr>\n",
       "      <th>4</th>\n",
       "      <td>3000</td>\n",
       "      <td>52100</td>\n",
       "      <td>50845.834453</td>\n",
       "    </tr>\n",
       "    <tr>\n",
       "      <th>5</th>\n",
       "      <td>1900</td>\n",
       "      <td>32500</td>\n",
       "      <td>28992.451676</td>\n",
       "    </tr>\n",
       "    <tr>\n",
       "      <th>6</th>\n",
       "      <td>1500</td>\n",
       "      <td>20000</td>\n",
       "      <td>21045.767030</td>\n",
       "    </tr>\n",
       "    <tr>\n",
       "      <th>7</th>\n",
       "      <td>1850</td>\n",
       "      <td>24500</td>\n",
       "      <td>27999.116096</td>\n",
       "    </tr>\n",
       "    <tr>\n",
       "      <th>8</th>\n",
       "      <td>2700</td>\n",
       "      <td>48000</td>\n",
       "      <td>44885.820969</td>\n",
       "    </tr>\n",
       "    <tr>\n",
       "      <th>9</th>\n",
       "      <td>2100</td>\n",
       "      <td>31000</td>\n",
       "      <td>32965.793999</td>\n",
       "    </tr>\n",
       "    <tr>\n",
       "      <th>10</th>\n",
       "      <td>2150</td>\n",
       "      <td>34500</td>\n",
       "      <td>33959.129580</td>\n",
       "    </tr>\n",
       "    <tr>\n",
       "      <th>11</th>\n",
       "      <td>2100</td>\n",
       "      <td>32000</td>\n",
       "      <td>32965.793999</td>\n",
       "    </tr>\n",
       "    <tr>\n",
       "      <th>12</th>\n",
       "      <td>2100</td>\n",
       "      <td>34500</td>\n",
       "      <td>32965.793999</td>\n",
       "    </tr>\n",
       "    <tr>\n",
       "      <th>13</th>\n",
       "      <td>2510</td>\n",
       "      <td>40050</td>\n",
       "      <td>41111.145762</td>\n",
       "    </tr>\n",
       "    <tr>\n",
       "      <th>14</th>\n",
       "      <td>2250</td>\n",
       "      <td>34100</td>\n",
       "      <td>35945.800742</td>\n",
       "    </tr>\n",
       "  </tbody>\n",
       "</table>\n",
       "</div>"
      ],
      "text/plain": [
       "    area   rent     pred_rent\n",
       "0   2000  31500  30979.122838\n",
       "1   2100  35000  32965.793999\n",
       "2   2500  41050  40912.478645\n",
       "3   2250  36100  35945.800742\n",
       "4   3000  52100  50845.834453\n",
       "5   1900  32500  28992.451676\n",
       "6   1500  20000  21045.767030\n",
       "7   1850  24500  27999.116096\n",
       "8   2700  48000  44885.820969\n",
       "9   2100  31000  32965.793999\n",
       "10  2150  34500  33959.129580\n",
       "11  2100  32000  32965.793999\n",
       "12  2100  34500  32965.793999\n",
       "13  2510  40050  41111.145762\n",
       "14  2250  34100  35945.800742"
      ]
     },
     "execution_count": 53,
     "metadata": {},
     "output_type": "execute_result"
    }
   ],
   "source": [
    "df.head(15)"
   ]
  },
  {
   "cell_type": "code",
   "execution_count": 54,
   "id": "ae203dcd",
   "metadata": {},
   "outputs": [
    {
     "data": {
      "text/plain": [
       "0.9217441333044769"
      ]
     },
     "execution_count": 54,
     "metadata": {},
     "output_type": "execute_result"
    }
   ],
   "source": [
    "reg.score(xtest,ytest) # R square value (acurrcy)"
   ]
  },
  {
   "cell_type": "markdown",
   "id": "18983ff1",
   "metadata": {},
   "source": [
    "# Best fit line"
   ]
  },
  {
   "cell_type": "code",
   "execution_count": 62,
   "id": "33699b96",
   "metadata": {},
   "outputs": [
    {
     "data": {
      "text/plain": [
       "Text(0, 0.5, 'rent')"
      ]
     },
     "execution_count": 62,
     "metadata": {},
     "output_type": "execute_result"
    },
    {
     "data": {
      "image/png": "[encoded data removed]",
      "text/plain": [
       "<Figure size 432x288 with 1 Axes>"
      ]
     },
     "metadata": {
      "needs_background": "light"
     },
     "output_type": "display_data"
    }
   ],
   "source": [
    "plt.plot(df.area, reg.predict(df[['area']]))\n",
    "#Data viz\n",
    "plt.scatter(df['area'], df['rent'], color='red')\n",
    "plt.xlabel('area')\n",
    "plt.ylabel('rent')"
   ]
  },
  {
   "cell_type": "code",
   "execution_count": 60,
   "id": "49e93f37",
   "metadata": {},
   "outputs": [
    {
     "data": {
      "text/plain": [
       "Text(0, 0.5, 'rent')"
      ]
     },
     "execution_count": 60,
     "metadata": {},
     "output_type": "execute_result"
    },
    {
     "data": {
      "image/png": "[encoded data removed]",
      "text/plain": [
       "<Figure size 432x288 with 1 Axes>"
      ]
     },
     "metadata": {
      "needs_background": "light"
     },
     "output_type": "display_data"
    }
   ],
   "source": [
    "plt.plot(df.area, df.pred_rent, color='black') \n",
    "#Data viz\n",
    "plt.scatter(df['area'], df['rent'], color='green')             #OR\n",
    "plt.xlabel('area')\n",
    "plt.ylabel('rent')"
   ]
  },
  {
   "cell_type": "markdown",
   "id": "188c3c14",
   "metadata": {},
   "source": [
    "# Save ML models"
   ]
  },
  {
   "cell_type": "code",
   "execution_count": null,
   "id": "4bea446a",
   "metadata": {},
   "outputs": [],
   "source": []
  }
 ],
 "metadata": {
  "kernelspec": {
   "display_name": "Python 3 (ipykernel)",
   "language": "python",
   "name": "python3"
  },
  "language_info": {
   "codemirror_mode": {
    "name": "ipython",
    "version": 3
   },
   "file_extension": ".py",
   "mimetype": "text/x-python",
   "name": "python",
   "nbconvert_exporter": "python",
   "pygments_lexer": "ipython3",
   "version": "3.9.7"
  }
 },
 "nbformat": 4,
 "nbformat_minor": 5
}
